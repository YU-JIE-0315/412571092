{
  "nbformat": 4,
  "nbformat_minor": 0,
  "metadata": {
    "colab": {
      "provenance": [],
      "authorship_tag": "ABX9TyMri2hpqm6OOdcDBubjceUS",
      "include_colab_link": true
    },
    "kernelspec": {
      "name": "python3",
      "display_name": "Python 3"
    },
    "language_info": {
      "name": "python"
    }
  },
  "cells": [
    {
      "cell_type": "markdown",
      "metadata": {
        "id": "view-in-github",
        "colab_type": "text"
      },
      "source": [
        "<a href=\"https://colab.research.google.com/github/YU-JIE-0315/412571092/blob/main/Untitled3.ipynb\" target=\"_parent\"><img src=\"https://colab.research.google.com/assets/colab-badge.svg\" alt=\"Open In Colab\"/></a>"
      ]
    },
    {
      "cell_type": "code",
      "execution_count": 15,
      "metadata": {
        "colab": {
          "base_uri": "https://localhost:8080/"
        },
        "id": "XkpeJX_zwIAf",
        "outputId": "6f270eb6-a5d2-4dde-ef45-fe01c0c02d58"
      },
      "outputs": [
        {
          "name": "stdout",
          "output_type": "stream",
          "text": [
            "請輸入攝氏溫度32.5\n"
          ]
        }
      ],
      "source": [
        "攝氏=float(input(\"請輸入攝氏溫度\"))"
      ]
    },
    {
      "cell_type": "code",
      "source": [
        "華氏=攝氏*9/5+32"
      ],
      "metadata": {
        "id": "yVp3qlBFzKnR"
      },
      "execution_count": 16,
      "outputs": []
    },
    {
      "cell_type": "code",
      "source": [
        "print(華氏)"
      ],
      "metadata": {
        "colab": {
          "base_uri": "https://localhost:8080/"
        },
        "id": "FVdbWBKBzck8",
        "outputId": "b85e995e-9f72-4603-afde-b9a6b03a0195"
      },
      "execution_count": 17,
      "outputs": [
        {
          "output_type": "stream",
          "name": "stdout",
          "text": [
            "90.5\n"
          ]
        }
      ]
    },
    {
      "cell_type": "code",
      "source": [
        "num=2.9999999\n",
        "round_num=round(num,1)\n",
        "print(round_num)"
      ],
      "metadata": {
        "colab": {
          "base_uri": "https://localhost:8080/"
        },
        "id": "Pq8RSKsYzhTV",
        "outputId": "ae5f12b3-39b0-4503-d26f-de8b4d9bb0ca"
      },
      "execution_count": 18,
      "outputs": [
        {
          "output_type": "stream",
          "name": "stdout",
          "text": [
            "3.0\n"
          ]
        }
      ]
    },
    {
      "cell_type": "code",
      "source": [
        "體重=float(input(\"請輸入您的體重(公斤)\"))\n",
        "身高公分=float(input(\"請輸入您的身高(公分)\"))"
      ],
      "metadata": {
        "colab": {
          "base_uri": "https://localhost:8080/"
        },
        "id": "nFkZQ4J90EXS",
        "outputId": "add46c2a-f34a-48ee-d74e-ba6879f833c9"
      },
      "execution_count": 19,
      "outputs": [
        {
          "name": "stdout",
          "output_type": "stream",
          "text": [
            "請輸入您的體重(公斤)48\n",
            "請輸入您的身高(公分)155\n"
          ]
        }
      ]
    },
    {
      "cell_type": "code",
      "source": [
        "BMI=體重/(身高公分/100)**2\n",
        "BMI=round(BMI,2)\n",
        "print(BMI)"
      ],
      "metadata": {
        "colab": {
          "base_uri": "https://localhost:8080/"
        },
        "id": "w_KSdB0R02vV",
        "outputId": "cb915f86-50b6-4c35-b607-ed64f2e76c44"
      },
      "execution_count": 20,
      "outputs": [
        {
          "output_type": "stream",
          "name": "stdout",
          "text": [
            "19.98\n"
          ]
        }
      ]
    },
    {
      "cell_type": "code",
      "source": [
        "總和=sum(range(1,101))#\n",
        "print(總和)"
      ],
      "metadata": {
        "colab": {
          "base_uri": "https://localhost:8080/"
        },
        "id": "0zT7A7Fx1ZB6",
        "outputId": "b3174f09-05a4-4d4e-f7e8-362590402039"
      },
      "execution_count": 21,
      "outputs": [
        {
          "output_type": "stream",
          "name": "stdout",
          "text": [
            "5050\n"
          ]
        }
      ]
    },
    {
      "cell_type": "code",
      "source": [
        "總和=sum(range(1,50,2))\n",
        "print(總和)"
      ],
      "metadata": {
        "colab": {
          "base_uri": "https://localhost:8080/"
        },
        "id": "t8GQ_ppf14lO",
        "outputId": "48f572de-0c34-4b2f-a5ff-3c5ec3f70ae1"
      },
      "execution_count": 22,
      "outputs": [
        {
          "output_type": "stream",
          "name": "stdout",
          "text": [
            "625\n"
          ]
        }
      ]
    },
    {
      "cell_type": "code",
      "source": [],
      "metadata": {
        "colab": {
          "base_uri": "https://localhost:8080/",
          "height": 141
        },
        "id": "dGLOuI7c2oQY",
        "outputId": "f882fb49-d7e5-4210-89bc-7e9e2beb5c3c"
      },
      "execution_count": 23,
      "outputs": [
        {
          "output_type": "error",
          "ename": "NameError",
          "evalue": "name 'S' is not defined",
          "traceback": [
            "\u001b[0;31m---------------------------------------------------------------------------\u001b[0m",
            "\u001b[0;31mNameError\u001b[0m                                 Traceback (most recent call last)",
            "\u001b[0;32m<ipython-input-23-df23348f6d3c>\u001b[0m in \u001b[0;36m<cell line: 1>\u001b[0;34m()\u001b[0m\n\u001b[0;32m----> 1\u001b[0;31m \u001b[0mS\u001b[0m\u001b[0;34m\u001b[0m\u001b[0;34m\u001b[0m\u001b[0m\n\u001b[0m",
            "\u001b[0;31mNameError\u001b[0m: name 'S' is not defined"
          ]
        }
      ]
    }
  ]
}